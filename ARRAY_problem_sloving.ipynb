{
  "nbformat": 4,
  "nbformat_minor": 0,
  "metadata": {
    "colab": {
      "provenance": [],
      "authorship_tag": "ABX9TyOpwYVGh29j+Nzk5ja3QLEd",
      "include_colab_link": true
    },
    "kernelspec": {
      "name": "python3",
      "display_name": "Python 3"
    },
    "language_info": {
      "name": "python"
    }
  },
  "cells": [
    {
      "cell_type": "markdown",
      "metadata": {
        "id": "view-in-github",
        "colab_type": "text"
      },
      "source": [
        "<a href=\"https://colab.research.google.com/github/BharathDevanaboina/Python-problem-solving-/blob/main/ARRAY_problem_sloving.ipynb\" target=\"_parent\"><img src=\"https://colab.research.google.com/assets/colab-badge.svg\" alt=\"Open In Colab\"/></a>"
      ]
    },
    {
      "cell_type": "code",
      "execution_count": 1,
      "metadata": {
        "colab": {
          "base_uri": "https://localhost:8080/"
        },
        "id": "vtSqfLc5wuUg",
        "outputId": "d0a0b28d-fb5d-4b18-f83f-22d40a22bc1b"
      },
      "outputs": [
        {
          "output_type": "stream",
          "name": "stdout",
          "text": [
            "[4, 7, -1, 6, -11, 14, 3, -1, -6]\n"
          ]
        }
      ],
      "source": [
        "# 10. Maximum sum subarray\n",
        "L = [-2,4,7,-1,6,-11,14,3,-1,-6]\n",
        "\n",
        "d = {}\n",
        "\n",
        "for i in range(0,len(L)):\n",
        "  subarray = []\n",
        "  for j in range(i,len(L)):\n",
        "    subarray.append(L[j])\n",
        "    d[sum(subarray)] = subarray\n",
        "\n",
        "max_val = max(d.keys())\n",
        "\n",
        "for i in d:\n",
        "  if i == max_val:\n",
        "    print(d[i])"
      ]
    },
    {
      "cell_type": "code",
      "source": [
        "l = [-2, 4, 7, -1, 6, -11, 14, 3, -1, -6]\n",
        "\n",
        "max_sum = float('-inf')\n",
        "max_subarray = []\n",
        "\n",
        "for i in range(len(l)):\n",
        "    subarray = []\n",
        "    for j in range(i, len(l)):\n",
        "        subarray.append(l[j])\n",
        "        current_sum = sum(subarray)\n",
        "        if current_sum > max_sum:\n",
        "            max_sum = current_sum\n",
        "            max_subarray = subarray.copy()\n",
        "\n",
        "print(max_subarray)  # prints the subarray with the maximum sum\n"
      ],
      "metadata": {
        "colab": {
          "base_uri": "https://localhost:8080/"
        },
        "id": "ub3iWorLwvtk",
        "outputId": "031fabc2-7a33-4bf6-8a0d-cd38f1f2826f"
      },
      "execution_count": 2,
      "outputs": [
        {
          "output_type": "stream",
          "name": "stdout",
          "text": [
            "[4, 7, -1, 6, -11, 14, 3]\n"
          ]
        }
      ]
    },
    {
      "cell_type": "code",
      "source": [
        "# Function to find the maximum subarray sum\n",
        "def maxSubarraySum(arr):\n",
        "\n",
        "    # Stores the result (maximum sum found so far)\n",
        "    res = arr[0]\n",
        "\n",
        "    # Maximum sum of subarray ending at current position\n",
        "    maxEnding = arr[0]\n",
        "\n",
        "    for i in range(1, len(arr)):\n",
        "\n",
        "        # Either extend the previous subarray or start\n",
        "        # new from current element\n",
        "        maxEnding = max(maxEnding + arr[i], arr[i])\n",
        "\n",
        "        # Update result if the new subarray sum is larger\n",
        "        res = max(res, maxEnding)\n",
        "\n",
        "    return res\n",
        "\n",
        "if __name__ == \"__main__\":\n",
        "    arr = [-2, 4, 7, -1, 6, -11, 14, 3, -1, -6]\n",
        "    print(maxSubarraySum(arr))"
      ],
      "metadata": {
        "colab": {
          "base_uri": "https://localhost:8080/"
        },
        "id": "sp7A194juOpH",
        "outputId": "d4606cab-7b56-4d1f-8486-b93ef9926acd"
      },
      "execution_count": 8,
      "outputs": [
        {
          "output_type": "stream",
          "name": "stdout",
          "text": [
            "22\n"
          ]
        }
      ]
    },
    {
      "cell_type": "code",
      "source": [
        "def maxSubarrayWithElements(arr):\n",
        "    maxEnding = arr[0]\n",
        "    res = arr[0]\n",
        "    start = end = s = 0\n",
        "\n",
        "    for i in range(1, len(arr)):\n",
        "        if arr[i] > maxEnding + arr[i]:\n",
        "            maxEnding = arr[i]\n",
        "            s = i\n",
        "        else:\n",
        "            maxEnding += arr[i]\n",
        "\n",
        "        if maxEnding > res:\n",
        "            res = maxEnding\n",
        "            start = s\n",
        "            end = i\n",
        "\n",
        "    return arr[start:end+1], res\n",
        "\n",
        "# Example usage\n",
        "arr = [-2, 4, 7, -1, 6, -11, 14, 3, -1, -6]\n",
        "subarray, max_sum = maxSubarrayWithElements(arr)\n",
        "print(\"Maximum Subarray:\", subarray)\n",
        "print(\"Maximum Subarray Sum:\", max_sum)\n"
      ],
      "metadata": {
        "colab": {
          "base_uri": "https://localhost:8080/"
        },
        "id": "emoTvjHK5prd",
        "outputId": "d10e8db4-73a4-429c-d1e9-9c3db941de6d"
      },
      "execution_count": 9,
      "outputs": [
        {
          "output_type": "stream",
          "name": "stdout",
          "text": [
            "Maximum Subarray: [4, 7, -1, 6, -11, 14, 3]\n",
            "Maximum Subarray Sum: 22\n"
          ]
        }
      ]
    },
    {
      "cell_type": "code",
      "source": [
        " s = [3,1,2,5,8,7,9]"
      ],
      "metadata": {
        "id": "nIYFNwGDCvdF"
      },
      "execution_count": 1,
      "outputs": []
    },
    {
      "cell_type": "code",
      "source": [
        "s"
      ],
      "metadata": {
        "colab": {
          "base_uri": "https://localhost:8080/"
        },
        "id": "eJnwuAvMuctr",
        "outputId": "4145c8d3-e36a-465c-ccba-5a6565d39dcb"
      },
      "execution_count": 2,
      "outputs": [
        {
          "output_type": "execute_result",
          "data": {
            "text/plain": [
              "[3, 1, 2, 5, 8, 7, 9]"
            ]
          },
          "metadata": {},
          "execution_count": 2
        }
      ]
    },
    {
      "cell_type": "code",
      "source": [
        "s = [3, 1, 2, 5, 8, 7, 9]\n",
        "q = []\n",
        "\n",
        "for i in range(len(s)):\n",
        "    right_part = s[i+1:]  # all elements to the right of index i\n",
        "    left_part = s[:i]     # all elements to the left of index i\n",
        "\n",
        "    # Check if s[i] is greater than all elements on the right\n",
        "    if right_part and s[i] <= max(right_part):\n",
        "        continue  # if s[i] is NOT greater than max on the right, skip this i\n",
        "\n",
        "    # Check if s[i] is greater than all elements on the left\n",
        "    if left_part and s[i] <= max(left_part):\n",
        "        continue  # if s[i] is NOT greater than max on the left, skip this i\n",
        "\n",
        "    # If both conditions passed, append the index i to the result list q\n",
        "    q.append(i)\n",
        "\n",
        "print(q)\n",
        "\n"
      ],
      "metadata": {
        "colab": {
          "base_uri": "https://localhost:8080/"
        },
        "id": "Ss8XI8p6ujLX",
        "outputId": "32d267e4-3b28-4d71-8535-bee049b99070"
      },
      "execution_count": 4,
      "outputs": [
        {
          "output_type": "stream",
          "name": "stdout",
          "text": [
            "3\n",
            "1\n",
            "2\n",
            "5\n",
            "8\n",
            "7\n",
            "9\n"
          ]
        }
      ]
    },
    {
      "cell_type": "code",
      "source": [
        "s = [3, 1, 2, 5, 8, 7, 9]\n",
        "q = []\n",
        "\n",
        "for i in range(len(s)):\n",
        "    right_part = s[i+1:]  # all elements to the right of index i\n",
        "    left_part = s[:i]     # all elements to the left of index i\n",
        "\n",
        "    # Check if s[i] is greater than all elements on the right\n",
        "    if  right_part and s[i] <= max(right_part):\n",
        "        continue  # if s[i] is NOT greater than max on the right, skip this i\n",
        "\n",
        "    # Check if s[i] is greater than all elements on the left\n",
        "    if left_part and s[i] <= max(left_part):\n",
        "        continue  # if s[i] is NOT greater than max on the left, skip this i\n",
        "\n",
        "    # If both conditions passed, append the index i to the result list q\n",
        "    q.append(i)\n",
        "\n",
        "print(q)\n"
      ],
      "metadata": {
        "colab": {
          "base_uri": "https://localhost:8080/"
        },
        "id": "YNc4nqCguqe9",
        "outputId": "6c08c736-3379-4980-b46c-5e1c6526f7e7"
      },
      "execution_count": 3,
      "outputs": [
        {
          "output_type": "stream",
          "name": "stdout",
          "text": [
            "[6]\n"
          ]
        }
      ]
    },
    {
      "cell_type": "code",
      "source": [
        "s = [3, 1, 2, 5, 8, 7, 9]\n",
        "\n",
        "max_arr = []\n",
        "min_arr = []\n",
        "min_val = s[-1]\n",
        "max_val = s[0]\n",
        "\n",
        "for i in s:\n",
        "    if i > max_val:\n",
        "        max_val = i\n",
        "    max_arr.append(max_val)\n",
        "\n",
        "\n",
        "for i in range (len(s)-1,-1,-1):\n",
        "  if s[i] < min_val:\n",
        "    min_val = s[i] # Changed s(i) to s[i]\n",
        "  min_arr.insert(0, min_val)\n",
        "\n",
        "# Added print statements for both lists\n",
        "print(\"max_arr:\", max_arr)\n",
        "print(\"min_arr:\", min_arr)\n",
        "\n",
        "# The last loop from the original code, assuming the user still wants this logic\n",
        "for i in range (1,len(s)-1):\n",
        "   if max_arr[i-1] < s[i] < min_arr[i+1]:\n",
        "     print(s[i])"
      ],
      "metadata": {
        "colab": {
          "base_uri": "https://localhost:8080/"
        },
        "id": "SvOhnBXzjShh",
        "outputId": "988c450d-4a3c-479d-86e3-a10fa8a51f9b"
      },
      "execution_count": 13,
      "outputs": [
        {
          "output_type": "stream",
          "name": "stdout",
          "text": [
            "max_arr: [3, 3, 3, 5, 8, 8, 9]\n",
            "min_arr: [1, 1, 2, 5, 7, 7, 9]\n",
            "5\n"
          ]
        }
      ]
    },
    {
      "cell_type": "code",
      "source": [
        "s = int(input('Enter the value: '))\n",
        "l = [1, 22, 13, 7, 9, 11, 10]\n",
        "z = [] # Initialize z outside the loops to collect all pairs\n",
        "\n",
        "# Use nested loops to iterate through the indices of the list\n",
        "for i in range(0,len(l)):\n",
        "  subarray = []\n",
        "  for j in range(i, len(l)):\n",
        "    subarray.append(l[j])\n",
        "\n",
        "    if sum(subarray) == s:\n",
        "      print(subarray) # Append the pair as a tuple\n",
        "\n"
      ],
      "metadata": {
        "colab": {
          "base_uri": "https://localhost:8080/"
        },
        "id": "E2KzSS4ZrHq7",
        "outputId": "ee7c7a6a-4b85-4e39-8acb-7d14b9a88276"
      },
      "execution_count": 27,
      "outputs": [
        {
          "name": "stdout",
          "output_type": "stream",
          "text": [
            "Enter the value: 89\n"
          ]
        }
      ]
    },
    {
      "cell_type": "code",
      "source": [
        "a = [1,2,3,4,5,6]\n",
        "b = [3,6,7,8]\n",
        "\n",
        "i=j=0\n",
        "\n",
        "while i<len(a) and j<len(b):\n",
        "  if a[i] == b[j]:\n",
        "    print(a[i])\n",
        "    i+=1\n",
        "    j+=1\n",
        "  elif a[i]> b[j]:\n",
        "    j +=1\n",
        "  else:\n",
        "    i+=1\n",
        "\n",
        ""
      ],
      "metadata": {
        "colab": {
          "base_uri": "https://localhost:8080/"
        },
        "id": "nmu4qQVwz47b",
        "outputId": "2bbf2a46-8f2f-42ec-b5b8-3e56c2e7f598"
      },
      "execution_count": 2,
      "outputs": [
        {
          "output_type": "stream",
          "name": "stdout",
          "text": [
            "3\n",
            "6\n"
          ]
        }
      ]
    },
    {
      "cell_type": "code",
      "source": [
        "l = [1,2,3,4,5]\n",
        "k =2"
      ],
      "metadata": {
        "id": "gltUpWGRgKR-"
      },
      "execution_count": 5,
      "outputs": []
    },
    {
      "cell_type": "code",
      "source": [
        "k = int(input('enter the value you want to split :'))\n",
        "l = [1,2,3,4,5]\n",
        "\n",
        "q = l[:k]\n",
        "z = l[k:]\n",
        "\n",
        "for i in q:\n",
        "  z.append(i)\n",
        "  print(z)"
      ],
      "metadata": {
        "colab": {
          "base_uri": "https://localhost:8080/"
        },
        "id": "CjFAmE1QkPVL",
        "outputId": "90717222-284c-437e-8952-c4b4cf463319"
      },
      "execution_count": 15,
      "outputs": [
        {
          "output_type": "stream",
          "name": "stdout",
          "text": [
            "enter the value you want to split :2\n",
            "[3, 4, 5, 1]\n",
            "[3, 4, 5, 1, 2]\n"
          ]
        }
      ]
    },
    {
      "cell_type": "code",
      "source": [
        "l = [1,1,2,3,4,4,5,5]\n",
        "# z = str(l) # This line is not needed for removing duplicates\n",
        "\n",
        "unique_l = [] # Create a new list to store unique elements\n",
        "for item in l:\n",
        "  if item not in unique_l: # Check if the item is already in the new list\n",
        "    unique_l.append(item) # If not, add it\n",
        "\n",
        "print(unique_l) # Print the list with duplicates removed"
      ],
      "metadata": {
        "colab": {
          "base_uri": "https://localhost:8080/"
        },
        "id": "oNoCiB_Bm3l7",
        "outputId": "b9cc0609-9957-49ae-ef55-4e1e0bf08dab"
      },
      "execution_count": 22,
      "outputs": [
        {
          "output_type": "stream",
          "name": "stdout",
          "text": [
            "[1, 2, 3, 4, 5]\n"
          ]
        }
      ]
    },
    {
      "cell_type": "code",
      "source": [],
      "metadata": {
        "id": "czPbFlddFDD6"
      },
      "execution_count": null,
      "outputs": []
    },
    {
      "cell_type": "code",
      "metadata": {
        "colab": {
          "base_uri": "https://localhost:8080/"
        },
        "id": "dba952f0",
        "outputId": "22db5e66-9343-4e3d-a0aa-f1d7e0588415"
      },
      "source": [
        "import pandas as pd\n",
        "\n",
        "l = [1,1,2,3,4,4,5,5]\n",
        "\n",
        "\n",
        "s = pd.Series(l)\n",
        "\n",
        "unique_s = s.drop_duplicates()\n",
        "\n",
        "unique = list(unique_s)\n",
        "unique"
      ],
      "execution_count": 25,
      "outputs": [
        {
          "output_type": "execute_result",
          "data": {
            "text/plain": [
              "[1, 2, 3, 4, 5]"
            ]
          },
          "metadata": {},
          "execution_count": 25
        }
      ]
    },
    {
      "cell_type": "code",
      "source": [
        "# Convert back to a list if needed\n",
        "unique_l_from_pandas = unique_s.tolist()\n",
        "\n",
        "print(unique_l_from_pandas)\n"
      ],
      "metadata": {
        "id": "0odPL1vdFlah"
      },
      "execution_count": null,
      "outputs": []
    },
    {
      "cell_type": "code",
      "metadata": {
        "id": "b8f0adf5"
      },
      "source": [
        "from collections import Counter"
      ],
      "execution_count": 26,
      "outputs": []
    },
    {
      "cell_type": "markdown",
      "metadata": {
        "id": "b7e8f760"
      },
      "source": [
        "Then, you can create a `Counter` object by passing an iterable (like a list or a string) to it:"
      ]
    },
    {
      "cell_type": "code",
      "metadata": {
        "colab": {
          "base_uri": "https://localhost:8080/"
        },
        "id": "705efe79",
        "outputId": "039f4f2f-53b9-4db4-835c-2ef18ff1e431"
      },
      "source": [
        "my_list = [1, 2, 2, 3, 3, 3, 4, 4, 4, 4]\n",
        "item_counts = Counter(my_list)\n",
        "print(item_counts)\n",
        "\n",
        "my_string = \"hello world\"\n",
        "char_counts = Counter(my_string)\n",
        "print(char_counts)"
      ],
      "execution_count": 28,
      "outputs": [
        {
          "output_type": "stream",
          "name": "stdout",
          "text": [
            "Counter({4: 4, 3: 3, 2: 2, 1: 1})\n",
            "Counter({'l': 3, 'o': 2, 'h': 1, 'e': 1, ' ': 1, 'w': 1, 'r': 1, 'd': 1})\n"
          ]
        }
      ]
    },
    {
      "cell_type": "markdown",
      "metadata": {
        "id": "f0313d7c"
      },
      "source": [
        "You can access the count of a specific item like you would with a dictionary:"
      ]
    },
    {
      "cell_type": "code",
      "metadata": {
        "colab": {
          "base_uri": "https://localhost:8080/"
        },
        "id": "fda84436",
        "outputId": "2723f27e-46d1-4d52-debc-18cb22f58ebd"
      },
      "source": [
        "print(item_counts[3])\n",
        "print(char_counts['l'])"
      ],
      "execution_count": 29,
      "outputs": [
        {
          "output_type": "stream",
          "name": "stdout",
          "text": [
            "3\n",
            "3\n"
          ]
        }
      ]
    },
    {
      "cell_type": "markdown",
      "metadata": {
        "id": "42e920ee"
      },
      "source": [
        "`Counter` also has some useful methods, like `most_common()` to get the most frequent items:"
      ]
    },
    {
      "cell_type": "code",
      "source": [
        "my_list = [1, 2, 2, 3, 3, 3, 4, 4, 4, 4]\n",
        "item_counts = Counter(my_list)\n",
        "print(item_counts)"
      ],
      "metadata": {
        "colab": {
          "base_uri": "https://localhost:8080/"
        },
        "id": "iiP-2wqnGnAJ",
        "outputId": "1bddb553-7a79-46c3-ceab-d630f82e2d0b"
      },
      "execution_count": 27,
      "outputs": [
        {
          "output_type": "stream",
          "name": "stdout",
          "text": [
            "Counter({4: 4, 3: 3, 2: 2, 1: 1})\n"
          ]
        }
      ]
    },
    {
      "cell_type": "code",
      "metadata": {
        "colab": {
          "base_uri": "https://localhost:8080/"
        },
        "id": "aa6b4f2a",
        "outputId": "95f2c690-d723-4472-994c-27a3fd6ecdb5"
      },
      "source": [
        "print(item_counts.most_common(2)) # Get the 2 most common items\n",
        "print(char_counts.most_common(3)) # Get the 3 most common characters"
      ],
      "execution_count": 30,
      "outputs": [
        {
          "output_type": "stream",
          "name": "stdout",
          "text": [
            "[(4, 4), (3, 3)]\n",
            "[('l', 3), ('o', 2), ('h', 1)]\n"
          ]
        }
      ]
    },
    {
      "cell_type": "code",
      "source": [
        "L = [21,1,34,23,54,11,10]\n",
        "min(L)\n",
        "max(L)"
      ],
      "metadata": {
        "colab": {
          "base_uri": "https://localhost:8080/"
        },
        "id": "nQ4UOA6RHY3L",
        "outputId": "d098afd8-a5e2-4c28-e8dd-7810b2cf278c"
      },
      "execution_count": 34,
      "outputs": [
        {
          "output_type": "execute_result",
          "data": {
            "text/plain": [
              "54"
            ]
          },
          "metadata": {},
          "execution_count": 34
        }
      ]
    },
    {
      "cell_type": "code",
      "source": [
        "L = [21,1,34,23,54,11,10]\n",
        "min_val = float('inf')\n",
        "\n",
        "for num in L:\n",
        "  if num < min_val:\n",
        "    min_val = num\n",
        "\n",
        "print(min_val)"
      ],
      "metadata": {
        "colab": {
          "base_uri": "https://localhost:8080/"
        },
        "id": "XPaLJKYeHzki",
        "outputId": "1566e776-bcbd-4733-a023-cd6732412549"
      },
      "execution_count": 37,
      "outputs": [
        {
          "output_type": "stream",
          "name": "stdout",
          "text": [
            "1\n"
          ]
        }
      ]
    },
    {
      "cell_type": "code",
      "source": [
        "L = [21,1,34,23,54,11,10]\n",
        "min_val = float('inf')\n",
        "\n",
        "for num in L:\n",
        "\n",
        "  if num > min_val:\n",
        "    min_val = num\n",
        "\n",
        "print(min_val)"
      ],
      "metadata": {
        "colab": {
          "base_uri": "https://localhost:8080/"
        },
        "id": "d94JbjX_H51e",
        "outputId": "f897a171-08a8-4c15-b398-330a363e9718"
      },
      "execution_count": 38,
      "outputs": [
        {
          "output_type": "stream",
          "name": "stdout",
          "text": [
            "inf\n"
          ]
        }
      ]
    },
    {
      "cell_type": "code",
      "source": [],
      "metadata": {
        "id": "PYjUkUA5I4Sj"
      },
      "execution_count": null,
      "outputs": []
    },
    {
      "cell_type": "code",
      "metadata": {
        "colab": {
          "base_uri": "https://localhost:8080/"
        },
        "id": "06e62fc8",
        "outputId": "3d366228-6c69-4f42-aa69-728d3f485e54"
      },
      "source": [
        "L = [21,1,34,23,54,11,10]\n",
        "\n",
        "max_val = float('-inf')\n",
        "\n",
        "for num in L:\n",
        "\n",
        "  if num > max_val:\n",
        "\n",
        "    max_val = num\n",
        "\n",
        "print(max_val)"
      ],
      "execution_count": 39,
      "outputs": [
        {
          "output_type": "stream",
          "name": "stdout",
          "text": [
            "54\n"
          ]
        }
      ]
    },
    {
      "cell_type": "code",
      "source": [
        "L = [1,2,6,4,5]\n",
        "\n",
        "for i in range (0, len(L)-1):\n",
        "  if L[i]< L[i+1]:\n",
        "    print('yes it is sorted')\n",
        "  else:\n",
        "    print('no')\n"
      ],
      "metadata": {
        "colab": {
          "base_uri": "https://localhost:8080/"
        },
        "id": "TJXqZUlbJEdo",
        "outputId": "ebecdb0e-89da-4985-c360-1c55b4d47455"
      },
      "execution_count": 48,
      "outputs": [
        {
          "output_type": "stream",
          "name": "stdout",
          "text": [
            "yes it is sorted\n",
            "yes it is sorted\n",
            "no\n",
            "yes it is sorted\n"
          ]
        }
      ]
    },
    {
      "cell_type": "code",
      "source": [
        "L = [1,2,6,4,5]\n",
        "\n",
        "is_sorted = True # Assume the list is sorted at the start\n",
        "\n",
        "for i in range (0, len(L)-1):\n",
        "  # Check if the current element is greater than the next element\n",
        "  if L[i] > L[i+1]:\n",
        "    is_sorted = False # If we find an unsorted pair, set the flag to False\n",
        "    break # We can stop checking as soon as we find one unsorted pair\n",
        "\n",
        "# After checking all pairs, print the final result based on the flag\n",
        "if is_sorted:\n",
        "  print('Yes, the list is sorted.')\n",
        "else:\n",
        "  print('No, the list is not sorted.')"
      ],
      "metadata": {
        "colab": {
          "base_uri": "https://localhost:8080/"
        },
        "id": "ChrTTErGKMS6",
        "outputId": "025ab644-74b3-447e-b680-f2fd7d882c10"
      },
      "execution_count": 46,
      "outputs": [
        {
          "output_type": "stream",
          "name": "stdout",
          "text": [
            "No, the list is not sorted.\n"
          ]
        }
      ]
    },
    {
      "cell_type": "code",
      "source": [],
      "metadata": {
        "id": "mHGp7lixLq-u"
      },
      "execution_count": null,
      "outputs": []
    }
  ]
}