{
  "nbformat": 4,
  "nbformat_minor": 0,
  "metadata": {
    "colab": {
      "provenance": []
    },
    "kernelspec": {
      "name": "python3",
      "display_name": "Python 3"
    },
    "language_info": {
      "name": "python"
    }
  },
  "cells": [
    {
      "cell_type": "markdown",
      "source": [
        "# Task : Session 1\n",
        "Solve these questions own your own and try to test yourself what you have learned in the session.\n",
        "\n",
        "Happy Learning!"
      ],
      "metadata": {
        "id": "A05OG15VqOPF"
      }
    },
    {
      "cell_type": "markdown",
      "source": [
        "### Q1 :- Print the given strings as per stated format.\n",
        "\n",
        "**Given strings**:\n",
        "```\n",
        "\"Data\" \"Science\" \"Mentorship\" \"Program\"\n",
        "\"By\" \"CampusX\"\n",
        "```\n",
        "**Output**:\n",
        "```\n",
        "Data-Science-Mentorship-Program-started-By-CampusX\n",
        "```\n",
        "\n",
        "Concept- [Seperator and End]"
      ],
      "metadata": {
        "id": "2doIXf8bqe9_"
      }
    },
    {
      "cell_type": "code",
      "source": [
        "'-'.join([\"Data\", \"Science\" ,\"Mentorship\", \"Program\", \"By\" ,\"CampusX\"])"
      ],
      "metadata": {
        "id": "RGYMXv9D85g5",
        "outputId": "ca204be3-eaa2-40b7-f59b-ffa3c7fd8b9e",
        "colab": {
          "base_uri": "https://localhost:8080/",
          "height": 35
        }
      },
      "execution_count": null,
      "outputs": [
        {
          "output_type": "execute_result",
          "data": {
            "text/plain": [
              "'Data-Science-Mentorship-Program-By-CampusX'"
            ],
            "application/vnd.google.colaboratory.intrinsic+json": {
              "type": "string"
            }
          },
          "metadata": {},
          "execution_count": 1
        }
      ]
    },
    {
      "cell_type": "code",
      "source": [
        "# Write your code here"
      ],
      "metadata": {
        "id": "-em6d3KErDtp"
      },
      "execution_count": null,
      "outputs": []
    },
    {
      "cell_type": "markdown",
      "source": [
        "### Q2:- Write a program that will convert celsius value to fahrenheit."
      ],
      "metadata": {
        "id": "1KUpN7ZTrC3_"
      }
    },
    {
      "cell_type": "code",
      "source": [
        "# Write your code here\n",
        "Celsius = int(input( 'enter the temperature Celsius'))\n",
        "\n",
        "Fahrenheit = (Celsius * 9/5) + 32\n",
        "\n",
        "print (Fahrenheit)"
      ],
      "metadata": {
        "id": "yxKYhYQiqWfj",
        "outputId": "909bb557-5787-4a2e-b111-1b71637ce000",
        "colab": {
          "base_uri": "https://localhost:8080/"
        }
      },
      "execution_count": null,
      "outputs": [
        {
          "output_type": "stream",
          "name": "stdout",
          "text": [
            "enter the temperature Fahrenheit10\n",
            "50.0\n"
          ]
        }
      ]
    },
    {
      "cell_type": "markdown",
      "source": [
        "### Q3:- Take 2 numbers as input from the user.Write a program to swap the numbers without using any special python syntax."
      ],
      "metadata": {
        "id": "RLrOBBJurLB2"
      }
    },
    {
      "cell_type": "code",
      "source": [
        "# Write your code here\n",
        "\n",
        "a = int(input('enter your first number'))\n",
        "b  = int(input('enter your first second'))\n",
        "\n",
        "c = a\n",
        "a = b\n",
        "b = c\n",
        "\n",
        "print(a,b)"
      ],
      "metadata": {
        "id": "yPn7if0TrJ4F",
        "outputId": "ff51bd9b-1292-4d3c-db23-576ca4f0266e",
        "colab": {
          "base_uri": "https://localhost:8080/"
        }
      },
      "execution_count": null,
      "outputs": [
        {
          "output_type": "stream",
          "name": "stdout",
          "text": [
            "enter your first number5\n",
            "enter your first second6\n",
            "6 5\n"
          ]
        }
      ]
    },
    {
      "cell_type": "markdown",
      "source": [
        "### Q4:- Write a program to find the euclidean distance between two coordinates.Take both the coordinates from the user as input."
      ],
      "metadata": {
        "id": "waLCP1bjr7ML"
      }
    },
    {
      "cell_type": "code",
      "source": [
        "# Write your code here\n",
        "\n",
        "import math\n",
        "\n",
        "# Take input for the first coordinate\n",
        "x1 = float(input(\"Enter x-coordinate of the first point: \"))\n",
        "y1 = float(input(\"Enter y-coordinate of the first point: \"))\n",
        "\n",
        "# Take input for the second coordinate\n",
        "x2 = float(input(\"Enter x-coordinate of the second point: \"))\n",
        "y2 = float(input(\"Enter y-coordinate of the second point: \"))\n",
        "\n",
        "# Calculate the Euclidean distance\n",
        "distance = math.sqrt((x2 - x1)**2 + (y2 - y1)**2)\n",
        "\n",
        "# Print the result\n",
        "print(\"The Euclidean distance between the points is:\", distance)\n"
      ],
      "metadata": {
        "id": "Pl1Sv-xnrxnH",
        "outputId": "c5ff8142-2ff4-4748-c030-ee592faa1ab4",
        "colab": {
          "base_uri": "https://localhost:8080/"
        }
      },
      "execution_count": null,
      "outputs": [
        {
          "output_type": "stream",
          "name": "stdout",
          "text": [
            "Enter x-coordinate of the first point: 10\n",
            "Enter y-coordinate of the first point: 10\n",
            "Enter x-coordinate of the second point: 5\n",
            "Enter y-coordinate of the second point: 5\n",
            "The Euclidean distance between the points is: 7.0710678118654755\n"
          ]
        }
      ]
    },
    {
      "cell_type": "markdown",
      "source": [
        "### Q5:- Write a program to find the simple interest when the value of principle,rate of interest and time period is provided by the user.\n"
      ],
      "metadata": {
        "id": "VLrhg-FRsHjR"
      }
    },
    {
      "cell_type": "code",
      "source": [
        "# Write your code here\n",
        "Principal = int(input('enter the  intial investment'))\n",
        "Rate = float(input('enter the rate of interst'))\n",
        "Time = int(input('entere the number of years'))\n",
        "\n",
        "Rate = Rate/100\n",
        "\n",
        "Simple_Interest = (Principal * Rate * Time)\n",
        "\n",
        "print(Simple_Interest)"
      ],
      "metadata": {
        "id": "s40DlReZsTmY",
        "outputId": "9e1612b0-4048-4cee-da99-57052994f921",
        "colab": {
          "base_uri": "https://localhost:8080/"
        }
      },
      "execution_count": null,
      "outputs": [
        {
          "output_type": "stream",
          "name": "stdout",
          "text": [
            "enter the  intial investment100\n",
            "enter the rate of interst10\n",
            "entere the number of years1\n",
            "10.0\n"
          ]
        }
      ]
    },
    {
      "cell_type": "markdown",
      "source": [
        "### Q6:- Write a program that will tell the number of dogs and chicken are there when the user will provide the value of total heads and legs.\n",
        "\n",
        "For example:\n",
        "Input:\n",
        "heads -> 4\n",
        "legs -> 12\n",
        "<br>\n",
        "Output:\n",
        "dogs -> 2\n",
        "chicken -> 2\n",
        "\n",
        "\n",
        "\n"
      ],
      "metadata": {
        "id": "LMy0BTUktYKa"
      }
    },
    {
      "cell_type": "code",
      "source": [
        "heads = int(input('Enter the total number of heads: '))\n",
        "legs = int(input('Enter the total number of legs: '))\n",
        "\n",
        "dogs = (legs - 2 * heads) // 2\n",
        "chickens = heads - dogs\n",
        "\n",
        "print(f'dogs -> {dogs}, chickens -> {chickens}')\n",
        "\n",
        "\n"
      ],
      "metadata": {
        "id": "XSBvJoA4tXaG",
        "outputId": "05d501e3-6b84-436d-f39b-1516624959a3",
        "colab": {
          "base_uri": "https://localhost:8080/"
        }
      },
      "execution_count": null,
      "outputs": [
        {
          "output_type": "stream",
          "name": "stdout",
          "text": [
            "Enter the total number of heads: 10\n",
            "Enter the total number of legs: 10\n",
            "dogs -> -5, chickens -> 15\n"
          ]
        }
      ]
    },
    {
      "cell_type": "markdown",
      "source": [
        "### Q7:- Write a program to find the sum of squares of first n natural numbers where n will be provided by the user."
      ],
      "metadata": {
        "id": "gJ7C5kZYt4BP"
      }
    },
    {
      "cell_type": "code",
      "source": [
        "# Write your code here\n",
        "\n",
        "n = int(input('enter the n value'))\n",
        "squar = 0\n",
        "for i in range (1, n+1):\n",
        "  squar += i**2\n",
        "\n",
        "print(squar)\n"
      ],
      "metadata": {
        "id": "_tHsmEHzt2nX",
        "outputId": "963cefc3-45fb-4a60-b9c7-4c2425833cec",
        "colab": {
          "base_uri": "https://localhost:8080/"
        }
      },
      "execution_count": null,
      "outputs": [
        {
          "output_type": "stream",
          "name": "stdout",
          "text": [
            "enter the n value10\n",
            "385\n"
          ]
        }
      ]
    },
    {
      "cell_type": "markdown",
      "source": [
        "### Q8:- Given the first 2 terms of an Arithmetic Series.Find the Nth term of the series. Assume all inputs are provided by the user."
      ],
      "metadata": {
        "id": "FHrMM7g-yG1h"
      }
    },
    {
      "cell_type": "code",
      "source": [
        "# Write your code here\n",
        "first_term = int(input('enter the value in the first term'))\n",
        "second_term  = int(input('enter the value in the first term'))\n",
        "N = int(input('Enter the position (N) of the term to find: '))\n",
        "\n",
        "d = second_term - first_term\n",
        "\n",
        "Nth_term = first_term + (N - 1) * d\n",
        "\n",
        "print(\"The\", N, \"th term of the arithmetic series is:\", Nth_term)\n",
        "\n"
      ],
      "metadata": {
        "id": "go4_kmZmyVSx",
        "outputId": "02ce9ab8-bb14-4955-ef11-7a9741d9058a",
        "colab": {
          "base_uri": "https://localhost:8080/"
        }
      },
      "execution_count": null,
      "outputs": [
        {
          "output_type": "stream",
          "name": "stdout",
          "text": [
            "enter the value in the first term10\n",
            "enter the value in the first term10\n",
            "Enter the position (N) of the term to find: 1\n",
            "The 1 th term of the arithmetic series is: 10\n"
          ]
        }
      ]
    },
    {
      "cell_type": "markdown",
      "source": [
        "### Q9:- Given 2 fractions, find the sum of those 2 fractions.Take the numerator and denominator values of the fractions from the user."
      ],
      "metadata": {
        "id": "QgyRX_es1oum"
      }
    },
    {
      "cell_type": "code",
      "source": [
        "# Write your code here\n",
        "a = int(input('Enter the numerator of the first fraction: '))\n",
        "b = int(input('Enter the denominator of the first fraction: '))\n",
        "c = int(input('Enter the numerator of the second fraction: '))\n",
        "d = int(input('Enter the denominator of the second fraction: '))\n",
        "\n",
        "\n",
        "numerator = a * d + c * b\n",
        "denominator = b * d\n",
        "\n",
        "print(f'The sum of the fracntion is {numerator}/{denominator}')"
      ],
      "metadata": {
        "id": "X05xqFS1yW16",
        "outputId": "937ad650-110e-40f5-97f2-65b3f577332c",
        "colab": {
          "base_uri": "https://localhost:8080/"
        }
      },
      "execution_count": null,
      "outputs": [
        {
          "output_type": "stream",
          "name": "stdout",
          "text": [
            "Enter the numerator of the first fraction: 1\n",
            "Enter the denominator of the first fraction: 2\n",
            "Enter the numerator of the second fraction: 1\n",
            "Enter the denominator of the second fraction: 1\n",
            "The sum of the fracntion is 3/2\n"
          ]
        }
      ]
    },
    {
      "cell_type": "markdown",
      "source": [
        "### Q10:- Given the height, width and breadth of a milk tank, you have to find out how many glasses of milk can be obtained? Assume all the inputs are provided by the user.\n",
        "\n",
        "\n",
        "\n",
        "Input:<br>\n",
        "Dimensions of the milk tank<br>\n",
        "H = 20cm, L = 20cm, B = 20cm\n",
        "<br><br>\n",
        "Dimensions of the glass<br>\n",
        "h = 3cm, r = 1cm"
      ],
      "metadata": {
        "id": "eaql38ln13u7"
      }
    },
    {
      "cell_type": "code",
      "source": [
        "# Write your code here\n",
        "import math\n",
        "\n",
        "h = int(input())\n",
        "l = int(input())\n",
        "B = int(input())\n",
        "\n",
        "h_glass = int(input(\"Enter glass height: \"))\n",
        "r_glass = int(input(\"Enter glass radius: \"))\n",
        "\n",
        "\n",
        "Volume_tank = h*l*B\n",
        "Volume_glass = math.pi * (r_glass ** 2) * h_glass\n",
        "\n",
        "Number_of_glasses = Volume_tank/Volume_glass\n",
        "print(int(Number_of_glasses))"
      ],
      "metadata": {
        "id": "FePZqno74eWv",
        "outputId": "b0e84026-ea0a-4c57-c3f2-ebab5ca38403",
        "colab": {
          "base_uri": "https://localhost:8080/"
        }
      },
      "execution_count": null,
      "outputs": [
        {
          "output_type": "stream",
          "name": "stdout",
          "text": [
            "10\n",
            "12\n",
            "13\n",
            "Enter glass height: 5\n",
            "Enter glass radius: 6\n",
            "2\n"
          ]
        }
      ]
    },
    {
      "cell_type": "code",
      "source": [],
      "metadata": {
        "id": "dG40b_MWM5SX"
      },
      "execution_count": null,
      "outputs": []
    }
  ]
}