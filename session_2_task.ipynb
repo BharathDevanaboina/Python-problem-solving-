{
  "nbformat": 4,
  "nbformat_minor": 0,
  "metadata": {
    "colab": {
      "provenance": [],
      "include_colab_link": true
    },
    "kernelspec": {
      "name": "python3",
      "display_name": "Python 3"
    },
    "language_info": {
      "name": "python"
    }
  },
  "cells": [
    {
      "cell_type": "markdown",
      "metadata": {
        "id": "view-in-github",
        "colab_type": "text"
      },
      "source": [
        "<a href=\"https://colab.research.google.com/github/BharathDevanaboina/Python-problem-solving-/blob/main/session_2_task.ipynb\" target=\"_parent\"><img src=\"https://colab.research.google.com/assets/colab-badge.svg\" alt=\"Open In Colab\"/></a>"
      ]
    },
    {
      "cell_type": "markdown",
      "source": [
        "### `Problem 1`: Write a program that will give you in hand monthly salary after deduction on CTC - HRA(10%), DA(5%), PF(3%) and taxes deduction as below:\n",
        "\n",
        "> Salary(Lakhs) : Tax(%)\n",
        "\n",
        "*   Below 5 : 0%\n",
        "*   5-10 : 10%\n",
        "*   10-20 : 20%\n",
        "*   aboove 20 : 30%"
      ],
      "metadata": {
        "id": "w6RlOAXV2PWh"
      }
    },
    {
      "cell_type": "code",
      "source": [
        "# Write code here\n",
        "\n",
        "income = int(input('enter the input file:'))\n",
        "\n",
        "\n",
        "deduction = (income * 0.1)+ (income * 0.05)+ (income * 0.03)\n",
        "\n",
        "salary = income - deduction\n",
        "\n",
        "if salary < 500000:\n",
        "  print(f'in hand salary {salary}')\n",
        "elif salary < 1000000:\n",
        "  tax = salary *0.1\n",
        "  in_hand = salary - tax\n",
        "  print (f'in hand salary is {in_hand}, tax amount is {tax}')\n",
        "elif salary < 2000000:\n",
        "  tax = salary *0.2\n",
        "  in_hand = salary - tax\n",
        "  print (f'in hand salary is {in_hand}, tax amount is {tax}')\n",
        "else:\n",
        "  tax = salary *0.3\n",
        "  in_hand = salary - tax\n",
        "  print (f'in hand salary is {in_hand}, tax amount is {tax}')\n",
        "\n"
      ],
      "metadata": {
        "id": "7tMHvKYO2etI",
        "colab": {
          "base_uri": "https://localhost:8080/"
        },
        "outputId": "fa2907d7-74ed-41ca-f312-1e181911e0ca"
      },
      "execution_count": 5,
      "outputs": [
        {
          "output_type": "stream",
          "name": "stdout",
          "text": [
            "enter the input file:2500000\n",
            "in hand salary is 1435000.0, tax amount is 615000.0\n"
          ]
        }
      ]
    },
    {
      "cell_type": "markdown",
      "source": [
        "### `Problem 2`: Write a program that take a user input of three angles and will find out whether it can form a triangle or not."
      ],
      "metadata": {
        "id": "tYzCGqwl2hfN"
      }
    },
    {
      "cell_type": "code",
      "source": [
        "# Write code here\n",
        "\n",
        "a = int(input('enter the first angle '))\n",
        "b = int(input('enter the first angle '))\n",
        "c = int(input('enter the first angle '))\n",
        "\n",
        "if a <0 or b < 0 or c <0:\n",
        "  print('not an triangel')\n",
        "elif a + b+ c == 180:\n",
        "  print ('it is triangel')\n",
        "else:\n",
        "  print('not an triangel')\n"
      ],
      "metadata": {
        "id": "FYEqln-I2kxV",
        "colab": {
          "base_uri": "https://localhost:8080/"
        },
        "outputId": "02dc84f4-a23f-4775-8c72-083074554d09"
      },
      "execution_count": 11,
      "outputs": [
        {
          "output_type": "stream",
          "name": "stdout",
          "text": [
            "enter the first angle 100\n",
            "enter the first angle 75\n",
            "enter the first angle 5\n",
            "it is triangel\n"
          ]
        }
      ]
    },
    {
      "cell_type": "markdown",
      "source": [
        "### `Problem 3`: Write a program that will take user input of cost price and selling price and determines whether its a loss or a profit."
      ],
      "metadata": {
        "id": "5vEpPh8C2pE4"
      }
    },
    {
      "cell_type": "code",
      "source": [
        "# Write code here\n",
        "\n",
        "selling_price = int(input('enter the price which your selling at:'))\n",
        "cost_price = int(input('enter the price which your cost at:'))\n",
        "\n",
        "if selling_price>cost_price:\n",
        "  print('it is a profit')\n",
        "elif selling_price == cost_price:\n",
        "  print('no profit and no loss')\n",
        "else:\n",
        "  print('it is a loss')"
      ],
      "metadata": {
        "id": "jDwBXlkO2sfl",
        "colab": {
          "base_uri": "https://localhost:8080/"
        },
        "outputId": "8b35899c-34a7-4789-d121-3badab23d34b"
      },
      "execution_count": 14,
      "outputs": [
        {
          "output_type": "stream",
          "name": "stdout",
          "text": [
            "enter the price which your selling at:1000\n",
            "enter the price which your cost at:1000\n",
            "no profit and no loss\n"
          ]
        }
      ]
    },
    {
      "cell_type": "markdown",
      "source": [
        "### `Problem 4`: Write a menu-driven program -\n",
        "1. cm to ft\n",
        "2. km to miles\n",
        "3. USD to INR\n",
        "4. exit"
      ],
      "metadata": {
        "id": "J_FG_cJW2ugT"
      }
    },
    {
      "cell_type": "code",
      "source": [
        "# Write code here\n",
        "\n",
        "def cm_to_ft(cm):\n",
        "    return cm / 30.48\n",
        "\n",
        "def km_to_miles(km):\n",
        "    return km / 1.609\n",
        "\n",
        "def usd_to_inr(usd):\n",
        "    # Example conversion rate, change it as per the current rate\n",
        "    return usd * 82.5\n",
        "\n",
        "while True:\n",
        "    print(\"\\nMenu:\")\n",
        "    print(\"1. Convert cm to ft\")\n",
        "    print(\"2. Convert km to miles\")\n",
        "    print(\"3. Convert USD to INR\")\n",
        "    print(\"4. Exit\")\n",
        "\n",
        "    choice = input(\"Enter your choice (1/2/3/4): \")\n",
        "\n",
        "    if choice == '1':\n",
        "        cm = float(input(\"Enter the length in centimeters: \"))\n",
        "        print(f\"{cm} cm is equal to {cm_to_ft(cm):.2f} feet.\")\n",
        "\n",
        "    elif choice == '2':\n",
        "        km = float(input(\"Enter the distance in kilometers: \"))\n",
        "        print(f\"{km} km is equal to {km_to_miles(km):.2f} miles.\")\n",
        "\n",
        "    elif choice == '3':\n",
        "        usd = float(input(\"Enter the amount in USD: \"))\n",
        "        print(f\"{usd} USD is equal to {usd_to_inr (usd):.2f} INR.\")\n",
        "\n",
        "    elif choice == '4':\n",
        "        print(\"Exiting the program. Goodbye!\")\n",
        "        break\n",
        "\n",
        "    else:\n",
        "        print(\"Invalid choice. Please select a valid option.\")\n"
      ],
      "metadata": {
        "id": "yBHhaCGQ2zpD",
        "colab": {
          "base_uri": "https://localhost:8080/"
        },
        "outputId": "2532d9c6-50c0-4b46-d7bd-1e9e98d115b3"
      },
      "execution_count": 17,
      "outputs": [
        {
          "output_type": "stream",
          "name": "stdout",
          "text": [
            "\n",
            "Menu:\n",
            "1. Convert cm to ft\n",
            "2. Convert km to miles\n",
            "3. Convert USD to INR\n",
            "4. Exit\n",
            "Enter your choice (1/2/3/4): 3\n",
            "Enter the amount in USD: 100\n",
            "100.0 USD is equal to 8250.00 INR.\n",
            "\n",
            "Menu:\n",
            "1. Convert cm to ft\n",
            "2. Convert km to miles\n",
            "3. Convert USD to INR\n",
            "4. Exit\n",
            "Enter your choice (1/2/3/4): 4\n",
            "Exiting the program. Goodbye!\n"
          ]
        }
      ]
    },
    {
      "cell_type": "markdown",
      "source": [
        "### `Problem 5` - Exercise 12: Display Fibonacci series up to 10 terms.\n",
        "\n",
        "*Note: The Fibonacci Sequence is a series of numbers. The next number is found by adding up the two numbers before it. The first two numbers are 0 and 1. For example, 0, 1, 1, 2, 3, 5, 8, 13, 21. The next number in this series above is 13+21 = 34*"
      ],
      "metadata": {
        "id": "LJJ30_Yw27ZU"
      }
    },
    {
      "cell_type": "code",
      "source": [
        "# Write code here\n",
        "\n",
        "first = 0\n",
        "second = 1\n",
        "\n",
        "tird = first + second\n",
        "\n",
        "forth = [0,1]\n",
        "\n",
        "for i in range ( 0 , 11):\n",
        "   forth.append(forth[-1]+ forth[-2])\n",
        "\n",
        "print (first, second , tird , forth)\n"
      ],
      "metadata": {
        "id": "ae_1rpe52-5R",
        "colab": {
          "base_uri": "https://localhost:8080/"
        },
        "outputId": "eabec77f-fea0-41fd-a05c-a41841115a0b"
      },
      "execution_count": 28,
      "outputs": [
        {
          "output_type": "stream",
          "name": "stdout",
          "text": [
            "0 1 1 [0, 1, 1, 2, 3, 5, 8, 13, 21, 34, 55, 89, 144]\n"
          ]
        }
      ]
    },
    {
      "cell_type": "markdown",
      "source": [
        "### `Problem 6` - Find the factorial of a given number.\n",
        "\n",
        "Write a program to use the loop to find the factorial of a given number.\n",
        "\n",
        "The factorial (symbol: `!`) means to multiply all whole numbers from the chosen number down to 1.\n",
        "\n",
        "For example: calculate the factorial of 5\n",
        "\n",
        "```bash\n",
        "5! = 5 × 4 × 3 × 2 × 1 = 120\n",
        "```\n",
        "\n",
        "Output:\n",
        "\n",
        "```bash\n",
        "120\n",
        "```"
      ],
      "metadata": {
        "id": "pk_I_S4m3PT5"
      }
    },
    {
      "cell_type": "code",
      "source": [
        "# Write code here\n",
        "\n",
        "n = int(input('enter the factorial:'))\n",
        "\n",
        "factor = 1\n",
        "for i in range (1 , n+1):\n",
        "  factor *= i\n",
        "\n",
        "print(factor)"
      ],
      "metadata": {
        "id": "lzXxHegx3Rkc",
        "colab": {
          "base_uri": "https://localhost:8080/"
        },
        "outputId": "17fc5f88-21bc-4077-c554-804a6db7784b"
      },
      "execution_count": 34,
      "outputs": [
        {
          "output_type": "stream",
          "name": "stdout",
          "text": [
            "enter the factorial:5\n",
            "120\n"
          ]
        }
      ]
    },
    {
      "cell_type": "markdown",
      "source": [
        "### `Problem 7` - Reverse a given integer number.\n",
        "\n",
        "Example:\n",
        "\n",
        "`Input:`\n",
        "\n",
        "```bash\n",
        "76542\n",
        "```\n",
        "\n",
        "`Output:`\n",
        "\n",
        "```bash\n",
        "24567\n",
        "```"
      ],
      "metadata": {
        "id": "-17IOi-g3UpU"
      }
    },
    {
      "cell_type": "code",
      "source": [
        "# Write code here\n",
        "\n",
        "n = input('Enter a value to see in reverse: ')\n",
        "print(n[::-1])\n",
        "\n",
        "\n"
      ],
      "metadata": {
        "id": "wJwLpKCr3aVA",
        "colab": {
          "base_uri": "https://localhost:8080/"
        },
        "outputId": "1c2fe951-b101-4246-a871-82fafbf284fa"
      },
      "execution_count": 42,
      "outputs": [
        {
          "output_type": "stream",
          "name": "stdout",
          "text": [
            "Enter a value to see in reverse: 123456+\n",
            "+654321\n"
          ]
        }
      ]
    },
    {
      "cell_type": "markdown",
      "source": [
        "### `Problem 8`: Take a user input as integer N. Find out the sum from 1 to N. If any number if divisible by 5, then skip that number. And if the sum is greater than 300, don't need to calculate the sum further more. Print the final result. And don't use for loop to solve this problem.\n",
        "\n",
        "**Example 1:**\n",
        "\n",
        "`Input:`\n",
        "\n",
        "```bash\n",
        "30\n",
        "```\n",
        "\n",
        "`Output:`\n",
        "\n",
        "```bash\n",
        "276\n",
        "```"
      ],
      "metadata": {
        "id": "-t8PJQaY3sHf"
      }
    },
    {
      "cell_type": "code",
      "source": [
        "# Write code here\n",
        "\n",
        "n = int(input('ent the value'))\n",
        "\n",
        "empty = 0\n",
        "\n",
        "for i in range (1 , n+1):\n",
        "  if i % 5 == 0:\n",
        "    continue\n",
        "\n",
        "  if empty + i >300:\n",
        "    break\n",
        "  empty += i\n",
        "\n",
        "print(empty)\n",
        "\n",
        "\n",
        "\n"
      ],
      "metadata": {
        "id": "GZB6mGMP3ujT",
        "colab": {
          "base_uri": "https://localhost:8080/"
        },
        "outputId": "addb0c8a-8a9d-4de3-dcb3-0f91afdfb25c"
      },
      "execution_count": 54,
      "outputs": [
        {
          "output_type": "stream",
          "name": "stdout",
          "text": [
            "ent the value30\n",
            "276\n"
          ]
        }
      ]
    },
    {
      "cell_type": "code",
      "source": [
        "def sum_skip_5(current, n, total_sum):\n",
        "    if current > n:\n",
        "        return total_sum\n",
        "\n",
        "    if current % 5 == 0:\n",
        "        return sum_skip_5(current + 1, n, total_sum)\n",
        "\n",
        "\n",
        "    if total_sum + current > 300:\n",
        "        return total_sum\n",
        "\n",
        "\n",
        "    return sum_skip_5(current + 1, n, total_sum + current)\n",
        "\n",
        "\n",
        "n = int(input('Enter the value of N: '))\n",
        "result = sum_skip_5(1, n, 0)\n",
        "print(result)"
      ],
      "metadata": {
        "colab": {
          "base_uri": "https://localhost:8080/"
        },
        "id": "6uTwgBDku-tx",
        "outputId": "6fd2a3ae-1632-46d3-dfb7-7fb836aef195"
      },
      "execution_count": 1,
      "outputs": [
        {
          "output_type": "stream",
          "name": "stdout",
          "text": [
            "Enter the value of N: 12\n",
            "63\n"
          ]
        }
      ]
    },
    {
      "cell_type": "markdown",
      "source": [
        "### `Problem 9`: Write a program that keeps on accepting a number from the user until the user enters Zero. Display the sum and average of all the numbers."
      ],
      "metadata": {
        "id": "Q7ggImeA3xm4"
      }
    },
    {
      "cell_type": "code",
      "source": [
        "# Write code here\n",
        "import numpy as np\n",
        "\n",
        "total = 0\n",
        "\n",
        "while True:\n",
        "  user = int(input('enter the valuee'))\n",
        "  if  user == 0:\n",
        "    break\n",
        "  total += user\n",
        "\n",
        "print(total)\n",
        "print(np.average(total))\n",
        "\n",
        "\n"
      ],
      "metadata": {
        "id": "t_YDSZDe4Kdo",
        "colab": {
          "base_uri": "https://localhost:8080/"
        },
        "outputId": "90a05fcc-b545-4dd9-879e-88594b9255e6"
      },
      "execution_count": 9,
      "outputs": [
        {
          "output_type": "stream",
          "name": "stdout",
          "text": [
            "enter the valuee10\n",
            "enter the valuee10\n",
            "enter the valuee15\n",
            "enter the valuee13\n",
            "enter the valuee17\n",
            "enter the valuee15\n",
            "enter the valuee18\n",
            "enter the valuee19\n",
            "enter the valuee0\n",
            "117\n",
            "117.0\n"
          ]
        }
      ]
    },
    {
      "cell_type": "code",
      "source": [
        "total = 0  # Variable to store the sum\n",
        "count = 0  # Variable to count the number of inputs\n",
        "\n",
        "while True:\n",
        "    user_input = int(input('Enter a value (0 to stop): '))\n",
        "\n",
        "    if user_input == 0:  # If the user inputs 0, stop the loop\n",
        "        break\n",
        "\n",
        "    total += user_input  # Add the user input to the total sum\n",
        "    count += 1  # Increment the count\n",
        "\n",
        "# Calculate and print the average\n",
        "if count > 0:  # Avoid division by zero\n",
        "    average = total / count\n",
        "    print(f\"The average is: {average}\")\n",
        "else:\n",
        "    print(\"No valid numbers entered.\")\n"
      ],
      "metadata": {
        "id": "FphMFFuKzQTQ"
      },
      "execution_count": null,
      "outputs": []
    },
    {
      "cell_type": "code",
      "source": [
        "import numpy as np\n",
        "\n",
        "numbers = []  # List to store the numbers\n",
        "\n",
        "while True:\n",
        "    user = int(input('Enter the value: '))\n",
        "    if user == 0:\n",
        "        break\n",
        "    numbers.append(user)  # Add the user input to the list\n",
        "\n",
        "# Calculate the total and average\n",
        "total = sum(numbers)\n",
        "average = np.average(numbers)\n",
        "\n",
        "print(\"Total:\", total)\n",
        "print(\"Average:\", average)\n"
      ],
      "metadata": {
        "colab": {
          "base_uri": "https://localhost:8080/"
        },
        "id": "YRVHH9GkzRrG",
        "outputId": "8c629bfe-1e9e-4362-8538-c0975e7fb502"
      },
      "execution_count": 10,
      "outputs": [
        {
          "output_type": "stream",
          "name": "stdout",
          "text": [
            "Enter the value: 10\n",
            "Enter the value: 10\n",
            "Enter the value: 12\n",
            "Enter the value: 15\n",
            "Enter the value: 17\n",
            "Enter the value: 19\n",
            "Enter the value: 20\n",
            "Enter the value: 55\n",
            "Enter the value: 0\n",
            "Total: 158\n",
            "Average: 19.75\n"
          ]
        }
      ]
    },
    {
      "cell_type": "markdown",
      "source": [
        "###`Problem 9`: Write a program which will find all such numbers which are divisible by 7 but are not a multiple of 5, between 2000 and 3200 (both included). The numbers obtained should be printed in a comma-separated sequence on a single line."
      ],
      "metadata": {
        "id": "6EhvEMvm4R7s"
      }
    },
    {
      "cell_type": "code",
      "source": [
        "# Write code here\n",
        "\n",
        "empty = []\n",
        "\n",
        "for i in range (2000, 3201):\n",
        "  if i%7 == 0 and i != 5:\n",
        "    empty.append(str(i))\n",
        "\n",
        "print(\",\".join(empty))"
      ],
      "metadata": {
        "id": "d6RgP1B34T6c",
        "colab": {
          "base_uri": "https://localhost:8080/"
        },
        "outputId": "aad4a720-664b-4b1e-8be8-2222595bf5c7"
      },
      "execution_count": 15,
      "outputs": [
        {
          "output_type": "stream",
          "name": "stdout",
          "text": [
            "2002,2009,2016,2023,2030,2037,2044,2051,2058,2065,2072,2079,2086,2093,2100,2107,2114,2121,2128,2135,2142,2149,2156,2163,2170,2177,2184,2191,2198,2205,2212,2219,2226,2233,2240,2247,2254,2261,2268,2275,2282,2289,2296,2303,2310,2317,2324,2331,2338,2345,2352,2359,2366,2373,2380,2387,2394,2401,2408,2415,2422,2429,2436,2443,2450,2457,2464,2471,2478,2485,2492,2499,2506,2513,2520,2527,2534,2541,2548,2555,2562,2569,2576,2583,2590,2597,2604,2611,2618,2625,2632,2639,2646,2653,2660,2667,2674,2681,2688,2695,2702,2709,2716,2723,2730,2737,2744,2751,2758,2765,2772,2779,2786,2793,2800,2807,2814,2821,2828,2835,2842,2849,2856,2863,2870,2877,2884,2891,2898,2905,2912,2919,2926,2933,2940,2947,2954,2961,2968,2975,2982,2989,2996,3003,3010,3017,3024,3031,3038,3045,3052,3059,3066,3073,3080,3087,3094,3101,3108,3115,3122,3129,3136,3143,3150,3157,3164,3171,3178,3185,3192,3199\n"
          ]
        }
      ]
    },
    {
      "cell_type": "markdown",
      "source": [
        "###`Problem 10`: Write a program, which will find all such numbers between 1000 and 3000 (both included) such that each digit of the number is an even number. The numbers obtained should be printed in a space-separated sequence on a single line.\n",
        "\n"
      ],
      "metadata": {
        "id": "tYvmRR-G4Vp4"
      }
    },
    {
      "cell_type": "code",
      "source": [
        "# Write code here\n",
        "\n",
        "empty1 = []\n",
        "\n",
        "for i in range (1000, 3001):\n",
        "  if i % 2 == 0:\n",
        "    empty.append(str(i))\n",
        "\n",
        "print(\" \".join(empty1))\n"
      ],
      "metadata": {
        "id": "k6Gs1kIf4k19",
        "colab": {
          "base_uri": "https://localhost:8080/"
        },
        "outputId": "a0e46a0d-4819-42ab-a18d-63235d4d4039"
      },
      "execution_count": 17,
      "outputs": [
        {
          "output_type": "stream",
          "name": "stdout",
          "text": [
            "\n"
          ]
        }
      ]
    },
    {
      "cell_type": "markdown",
      "source": [
        "###`Problem 11`: A robot moves in a plane starting from the original point (0,0). The robot can move toward UP, DOWN, LEFT and RIGHT with a given steps.\n",
        "The trace of robot movement is shown as the following:\n",
        "```\n",
        "UP 5\n",
        "DOWN 3\n",
        "LEFT 3\n",
        "RIGHT 2\n",
        "!\n",
        "```\n",
        "> The numbers after the direction are steps.\n",
        "\n",
        "> `!` means robot stop there.\n",
        "\n",
        "**Please write a program to compute the distance from current position after a sequence of movement and original point.**\n",
        "\n",
        "*If the distance is a float, then just print the nearest integer.*\n",
        "\n",
        "Example:\n",
        "\n",
        "`Input`:\n",
        "```\n",
        "UP 5\n",
        "DOWN 3\n",
        "LEFT 3\n",
        "RIGHT 2\n",
        "!\n",
        "```\n",
        "`Output`:\n",
        "```\n",
        "2\n",
        "```"
      ],
      "metadata": {
        "id": "GV18IINT4mf5"
      }
    },
    {
      "cell_type": "code",
      "source": [
        "# Write code here\n",
        "import math\n",
        "\n",
        "\n",
        "x, y = 0, 0\n",
        "\n",
        "\n",
        "while True:\n",
        "\n",
        "    command = input().strip()\n",
        "\n",
        "    # Check if the command is '!' to stop the loop\n",
        "    if command == '!':\n",
        "        break\n",
        "\n",
        "    # Split command into direction and steps\n",
        "    direction, steps = command.split()\n",
        "    steps = int(steps)\n",
        "\n",
        "    # Update position based on direction\n",
        "    if direction == 'UP':\n",
        "        y += steps\n",
        "    elif direction == 'DOWN':\n",
        "        y -= steps\n",
        "    elif direction == 'LEFT':\n",
        "        x -= steps\n",
        "    elif direction == 'RIGHT':\n",
        "        x += steps\n",
        "\n",
        "\n",
        "distance = math.sqrt(x**2 + y**2)\n",
        "\n",
        "\n",
        "print(round(distance))\n"
      ],
      "metadata": {
        "id": "6UNMC2aR4w5x",
        "colab": {
          "base_uri": "https://localhost:8080/",
          "height": 228
        },
        "outputId": "a3e67706-5d0c-4531-eba4-556e06ba1101"
      },
      "execution_count": 6,
      "outputs": [
        {
          "name": "stdout",
          "output_type": "stream",
          "text": [
            "UP 5 DOWN 3\n"
          ]
        },
        {
          "output_type": "error",
          "ename": "ValueError",
          "evalue": "too many values to unpack (expected 2)",
          "traceback": [
            "\u001b[0;31m---------------------------------------------------------------------------\u001b[0m",
            "\u001b[0;31mValueError\u001b[0m                                Traceback (most recent call last)",
            "\u001b[0;32m<ipython-input-6-331a80534ea5>\u001b[0m in \u001b[0;36m<cell line: 0>\u001b[0;34m()\u001b[0m\n\u001b[1;32m     15\u001b[0m \u001b[0;34m\u001b[0m\u001b[0m\n\u001b[1;32m     16\u001b[0m     \u001b[0;31m# Split command into direction and steps\u001b[0m\u001b[0;34m\u001b[0m\u001b[0;34m\u001b[0m\u001b[0m\n\u001b[0;32m---> 17\u001b[0;31m     \u001b[0mdirection\u001b[0m\u001b[0;34m,\u001b[0m \u001b[0msteps\u001b[0m \u001b[0;34m=\u001b[0m \u001b[0mcommand\u001b[0m\u001b[0;34m.\u001b[0m\u001b[0msplit\u001b[0m\u001b[0;34m(\u001b[0m\u001b[0;34m)\u001b[0m\u001b[0;34m\u001b[0m\u001b[0;34m\u001b[0m\u001b[0m\n\u001b[0m\u001b[1;32m     18\u001b[0m     \u001b[0msteps\u001b[0m \u001b[0;34m=\u001b[0m \u001b[0mint\u001b[0m\u001b[0;34m(\u001b[0m\u001b[0msteps\u001b[0m\u001b[0;34m)\u001b[0m\u001b[0;34m\u001b[0m\u001b[0;34m\u001b[0m\u001b[0m\n\u001b[1;32m     19\u001b[0m \u001b[0;34m\u001b[0m\u001b[0m\n",
            "\u001b[0;31mValueError\u001b[0m: too many values to unpack (expected 2)"
          ]
        }
      ]
    },
    {
      "cell_type": "markdown",
      "source": [
        "###`Problem 12`:Write a program to print whether a given number is a prime number or not"
      ],
      "metadata": {
        "id": "3fsAIAhK5GYY"
      }
    },
    {
      "cell_type": "code",
      "source": [
        "# Write code here\n",
        "\n",
        "n = int(input('enter the value'))\n",
        "\n",
        "if n%2 ==0:\n",
        "  print('even number')\n",
        "else:\n",
        "  print('non prime number')"
      ],
      "metadata": {
        "id": "j6y91lxy5LZs",
        "colab": {
          "base_uri": "https://localhost:8080/"
        },
        "outputId": "04304efd-b04f-420a-9b77-7f781abeabed"
      },
      "execution_count": 8,
      "outputs": [
        {
          "output_type": "stream",
          "name": "stdout",
          "text": [
            "enter the value7\n",
            "non prime number\n"
          ]
        }
      ]
    },
    {
      "cell_type": "markdown",
      "source": [
        "###`Problem 13`:Print all the Armstrong numbers in a given range.\n",
        "Range will be provided by the user<br>\n",
        "Armstrong number is a number that is equal to the sum of cubes of its digits. For example 0, 1, 153, 370, 371 and 407 are the Armstrong numbers."
      ],
      "metadata": {
        "id": "asAbmbK-5NHv"
      }
    },
    {
      "cell_type": "code",
      "source": [
        "# Write code here\n",
        "\n",
        "n = input('enter the value')\n",
        "\n",
        "empty = []\n",
        "\n",
        "for i in  n:\n",
        "  empty += (i)***3\n",
        "\n",
        "\n",
        "  print(i)\n",
        "\n",
        ""
      ],
      "metadata": {
        "id": "PZuI67pm5jCT",
        "colab": {
          "base_uri": "https://localhost:8080/"
        },
        "outputId": "b48f1a7d-7f0b-47a5-a9c5-fe0ddec42713"
      },
      "execution_count": 11,
      "outputs": [
        {
          "output_type": "stream",
          "name": "stdout",
          "text": [
            "enter the value153\n",
            "1\n",
            "5\n",
            "3\n"
          ]
        }
      ]
    },
    {
      "cell_type": "markdown",
      "source": [
        "###`Problem 14`:Calculate the angle between the hour hand and minute hand.\n",
        "\n",
        "Note: There can be two angles between hands; we need to print a minimum of two. Also, we need to print the floor of the final result angle. For example, if the final angle is 10.61, we need to print 10.\n",
        "\n",
        "Input:<br>\n",
        "H = 9 , M = 0<br>\n",
        "Output:<br>\n",
        "90<br>\n",
        "Explanation:<br>\n",
        "The minimum angle between hour and minute\n",
        "hand when the time is 9 is 90 degress."
      ],
      "metadata": {
        "id": "ClCQZMqT7gK0"
      }
    },
    {
      "cell_type": "code",
      "source": [
        "# Write code here"
      ],
      "metadata": {
        "id": "tNBTCZML7jy_"
      },
      "execution_count": null,
      "outputs": []
    },
    {
      "cell_type": "markdown",
      "source": [
        "###`Problem 15`:Given two rectangles, find if the given two rectangles overlap or not. A rectangle is denoted by providing the x and y coordinates of two points: the left top corner and the right bottom corner of the rectangle. Two rectangles sharing a side are considered overlapping. (L1 and R1 are the extreme points of the first rectangle and L2 and R2 are the extreme points of the second rectangle).\n",
        "\n",
        "Note: It may be assumed that the rectangles are parallel to the coordinate axis.\n",
        "\n",
        "<img src='https://www.geeksforgeeks.org/wp-content/uploads/rectanglesOverlap.png' width='300' height='200'>"
      ],
      "metadata": {
        "id": "GwacF9Co72Qc"
      }
    },
    {
      "cell_type": "code",
      "source": [
        "# Write code here"
      ],
      "metadata": {
        "id": "6rrw_lpH78Rs"
      },
      "execution_count": null,
      "outputs": []
    }
  ]
}