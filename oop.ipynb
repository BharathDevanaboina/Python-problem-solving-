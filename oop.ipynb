{
  "nbformat": 4,
  "nbformat_minor": 0,
  "metadata": {
    "colab": {
      "provenance": [],
      "collapsed_sections": [
        "BCleRtX43caS",
        "KBbGNTtQ47mJ",
        "ExIxsv4y-oEd",
        "OcQhJvXVALgp",
        "sEsGEqOHCSWG",
        "v1M5Yh9ZZO0z"
      ],
      "include_colab_link": true
    },
    "kernelspec": {
      "name": "python3",
      "display_name": "Python 3"
    },
    "language_info": {
      "name": "python"
    }
  },
  "cells": [
    {
      "cell_type": "markdown",
      "metadata": {
        "id": "view-in-github",
        "colab_type": "text"
      },
      "source": [
        "<a href=\"https://colab.research.google.com/github/BharathDevanaboina/Python-problem-solving-/blob/main/oop.ipynb\" target=\"_parent\"><img src=\"https://colab.research.google.com/assets/colab-badge.svg\" alt=\"Open In Colab\"/></a>"
      ]
    },
    {
      "cell_type": "markdown",
      "source": [
        "### `Problem-1:` Class inheritence\n",
        "\n",
        "Create a **Bus** child class that inherits from the Vehicle class. The default fare charge of any vehicle is seating capacity * 100. If Vehicle is Bus instance, we need to add an extra 10% on full fare as a maintenance charge. So total fare for bus instance will become the final amount = total fare + 10% of the total fare.\n",
        "\n",
        "Note: The bus seating capacity is 50. so the final fare amount should be 5500. You need to override the fare() method of a Vehicle class in Bus class."
      ],
      "metadata": {
        "id": "BCleRtX43caS"
      }
    },
    {
      "cell_type": "code",
      "execution_count": 10,
      "metadata": {
        "colab": {
          "base_uri": "https://localhost:8080/"
        },
        "id": "6jVFCXKz3YZI",
        "outputId": "1ea0704f-0d07-4f3e-a116-9ae75c85bc19"
      },
      "outputs": [
        {
          "output_type": "stream",
          "name": "stdout",
          "text": [
            "Total Bus fare is: 5500.0\n"
          ]
        }
      ],
      "source": [
        "# Write code here\n",
        "#Total Bus fare is: 5500.0\n",
        "\n",
        "class Vehicle():\n",
        "\n",
        "  def __init__(self):\n",
        "    self.price = 100\n",
        "\n",
        "\n",
        "class Bus(Vehicle):\n",
        "\n",
        "  def __init__(self):\n",
        "    super().__init__()\n",
        "    self.seating_capacity = 50\n",
        "\n",
        "\n",
        "\n",
        "  def bus_price(self):\n",
        "     base_fare = self.price * self.seating_capacity\n",
        "\n",
        "     return base_fare * 0.1 + base_fare\n",
        "\n",
        "\n",
        "\n",
        "\n",
        "b = Bus()\n",
        "print(\"Total Bus fare is:\", b.bus_price())"
      ]
    },
    {
      "cell_type": "markdown",
      "source": [
        "### `Problem-2:` Class Inheritence\n",
        "\n",
        "Create a Bus class that inherits from the Vehicle class. Give the capacity argument of *Bus.seating_capacity()* a default value of 50.\n",
        "\n",
        "Use the following code for your parent Vehicle class."
      ],
      "metadata": {
        "id": "KBbGNTtQ47mJ"
      }
    },
    {
      "cell_type": "code",
      "source": [
        "# Write code here\n",
        "#Total Bus fare is: 5500.0\n",
        "\n",
        "class Vehicle():\n",
        "\n",
        "  def __init__(self):\n",
        "    self.price = 100\n",
        "\n",
        "\n",
        "class Bus(Vehicle):\n",
        "\n",
        "  def __init__(self):\n",
        "    super().__init__()\n",
        "    self.capacity  = 50\n",
        "\n",
        "  def seating_capacity( self, capacity = 50):\n",
        "     self.capacity = capacity\n",
        "\n",
        "\n",
        "\n",
        "  def bus_price(self):\n",
        "     base_fare = self.price * self.capacity\n",
        "\n",
        "     return base_fare * 0.1 + base_fare\n",
        "\n",
        "\n",
        "\n",
        "\n",
        "b = Bus()\n",
        "print(\"Total Bus fare is:\", b.bus_price())\n",
        "print(b.seating_capacity(40))\n",
        "print(\"Total Bus fare is:\", b.bus_price())"
      ],
      "metadata": {
        "id": "MwOnYE_14M-r",
        "outputId": "d981bc7d-e210-4815-b785-e526ed4bae38",
        "colab": {
          "base_uri": "https://localhost:8080/"
        }
      },
      "execution_count": 31,
      "outputs": [
        {
          "output_type": "stream",
          "name": "stdout",
          "text": [
            "Total Bus fare is: 5500.0\n",
            "None\n",
            "Total Bus fare is: 4400.0\n"
          ]
        }
      ]
    },
    {
      "cell_type": "markdown",
      "source": [
        "### `Problem-3:` Write a program that has a class Point. Define another class Location which has two objects (Location & Destination) of class Point. Also define a function in Location that prints the reflection of Destination on the x axis."
      ],
      "metadata": {
        "id": "ExIxsv4y-oEd"
      }
    },
    {
      "cell_type": "code",
      "source": [
        "class Point:\n",
        "    def __init__(self, x, y):\n",
        "        self.x = x\n",
        "        self.y = y\n",
        "\n",
        "\n",
        "class Location:\n",
        "    def __init__(self, location_point, destination_point):\n",
        "        self.location = location_point\n",
        "        self.destination = destination_point\n",
        "\n",
        "    def reflect_destination_on_x(self):\n",
        "        reflected_y = -self.destination.y\n",
        "        print(f\"Reflection of Destination on X-axis: ({self.destination.x}, {reflected_y})\")\n",
        "\n",
        "\n",
        "# Example usage:\n",
        "loc = Point(2, 3)\n",
        "dest = Point(4, 5)\n",
        "location_obj = Location(loc, dest)\n",
        "\n",
        "location_obj.reflect_destination_on_x()\n",
        "\n",
        "\n",
        "\n",
        "\n",
        "\n",
        "\n"
      ],
      "metadata": {
        "id": "yT2QtzQp5VAB",
        "outputId": "5e1f90ab-1f1b-4139-cff4-56f32d4dea65",
        "colab": {
          "base_uri": "https://localhost:8080/"
        }
      },
      "execution_count": 37,
      "outputs": [
        {
          "output_type": "stream",
          "name": "stdout",
          "text": [
            "Reflection of Destination on X-axis: (4, -5)\n"
          ]
        }
      ]
    },
    {
      "cell_type": "code",
      "source": [
        "class Point:\n",
        "    def __init__(self, x, y):\n",
        "        self.x = x\n",
        "        self.y = y\n",
        "\n",
        "    def __getitem__(self, index):\n",
        "        if index == 0:\n",
        "            return self.x\n",
        "        elif index == 1:\n",
        "            return self.y\n",
        "        else:\n",
        "            raise IndexError(\"Index out of range. Use 0 for x and 1 for y.\")\n",
        "\n",
        "class Location:\n",
        "    def __init__(self, location_point, destination_point):\n",
        "        self.location = location_point\n",
        "        self.destination = destination_point\n",
        "\n",
        "    def reflect_destination_on_x(self):\n",
        "        reflected_y = -self.destination[1]  # Now supports indexing\n",
        "        print(f\"Reflection of Destination on X-axis: ({self.destination[0]}, {reflected_y})\")\n",
        "\n",
        "# Example usage:\n",
        "loc = Point(2, 3)\n",
        "dest = Point(4, 5)\n",
        "location_obj = Location(loc, dest)\n",
        "\n",
        "location_obj.reflect_destination_on_x()\n"
      ],
      "metadata": {
        "id": "U7McKjLW9DZp",
        "outputId": "6f157c80-2b87-48e0-edeb-9d60b23b06cb",
        "colab": {
          "base_uri": "https://localhost:8080/"
        }
      },
      "execution_count": 38,
      "outputs": [
        {
          "output_type": "stream",
          "name": "stdout",
          "text": [
            "Reflection of Destination on X-axis: (4, -5)\n"
          ]
        }
      ]
    },
    {
      "cell_type": "markdown",
      "source": [
        "### `Problem-4:` Write a program that has an abstract class Polygon. Derive two classes Rectangle and Triamgle from Polygon and write methods to get the details of their dimensions and hence calculate the area."
      ],
      "metadata": {
        "id": "OcQhJvXVALgp"
      }
    },
    {
      "cell_type": "code",
      "source": [
        "from abc import ABC, abstractmethod\n",
        "\n",
        "class Polygon(ABC):\n",
        "    @abstractmethod\n",
        "    def area(self):\n",
        "        pass\n",
        "\n",
        "class ShapeRectangle(Polygon):\n",
        "\n",
        "    @abstractmethod\n",
        "    def area(self):\n",
        "        pass\n",
        "\n",
        "    def Rectangle(self, l, b):\n",
        "       area = l*b\n",
        "       return (f'The Rectangle for the {l} & {b} is {area}')\n",
        "\n",
        "class ShapeTriangle(Polygon):\n",
        "\n",
        "    @abstractmethod\n",
        "    def area(self):\n",
        "        pass\n",
        "\n",
        "    def Triangle(self, l, b):\n",
        "       area = 0.5*l*b\n",
        "       return (f'The Triangle for the {l} & {b} is {area}')"
      ],
      "metadata": {
        "id": "9IMrtdUH__eA",
        "outputId": "2f64d6f7-1378-4a7e-d748-53e625e038bb",
        "colab": {
          "base_uri": "https://localhost:8080/"
        }
      },
      "execution_count": 45,
      "outputs": [
        {
          "output_type": "stream",
          "name": "stdout",
          "text": [
            "Rectangle area: 20\n",
            "Triangle area: 10.0\n"
          ]
        }
      ]
    },
    {
      "cell_type": "code",
      "source": [
        "from abc import ABC, abstractmethod\n",
        "\n",
        "class Polygon(ABC):\n",
        "    @abstractmethod\n",
        "    def area(self):\n",
        "        pass  # Abstract method, to be implemented by child classes\n",
        "\n",
        "class ShapeRectangle(Polygon):\n",
        "    def area(self, length, breadth):\n",
        "        # Area of rectangle: length * breadth\n",
        "        return length * breadth\n",
        "\n",
        "class ShapeTriangle(Polygon):\n",
        "    def area(self, base, height):\n",
        "        # Area of triangle: 0.5 * base * height\n",
        "        return 0.5 * base * height\n",
        "\n",
        "# Example Usage:\n",
        "rectangle = ShapeRectangle()\n",
        "triangle = ShapeTriangle()\n",
        "\n",
        "# Calling the `area()` method directly with parameters\n",
        "print(f\"Rectangle area: {rectangle.area(5, 4)}\")\n",
        "print(f\"Triangle area: {triangle.area(5, 4)}\")\n"
      ],
      "metadata": {
        "id": "LenrQyTf6RGG",
        "outputId": "3c27dd23-242a-491c-b5e0-f165995fb85c",
        "colab": {
          "base_uri": "https://localhost:8080/"
        }
      },
      "execution_count": 46,
      "outputs": [
        {
          "output_type": "stream",
          "name": "stdout",
          "text": [
            "Rectangle area: 20\n",
            "Triangle area: 10.0\n"
          ]
        }
      ]
    },
    {
      "cell_type": "code",
      "source": [
        "from abc import ABC, abstractmethod\n",
        "\n",
        "class Polygon(ABC):\n",
        "    @abstractmethod\n",
        "    def area(self):\n",
        "        pass  # This just sets the requirement for `area()` method in subclasses\n",
        "\n",
        "class ShapeRectangle(Polygon):\n",
        "    def __init__(self, length, breadth):\n",
        "        self.length = length\n",
        "        self.breadth = breadth\n",
        "\n",
        "    def area(self):\n",
        "        # Area of rectangle: length * breadth\n",
        "        return self.length * self.breadth\n",
        "\n",
        "class ShapeTriangle(Polygon):\n",
        "    def __init__(self, base, height):\n",
        "        self.base = base\n",
        "        self.height = height\n",
        "\n",
        "    def area(self):\n",
        "        # Area of triangle: 0.5 * base * height\n",
        "        return 0.5 * self.base * self.height\n",
        "\n",
        "# Example Usage\n",
        "rectangle = ShapeRectangle(5, 4)\n",
        "triangle = ShapeTriangle(5, 4)\n",
        "\n",
        "print(f\"Rectangle area: {rectangle.area()}\")\n",
        "print(f\"Triangle area: {triangle.area()}\")\n"
      ],
      "metadata": {
        "id": "vjEYZHGr5ohG"
      },
      "execution_count": null,
      "outputs": []
    },
    {
      "cell_type": "markdown",
      "source": [
        "### `Problem-5:` Write a program with class Bill. The users have the option to pay the bill either by cheque or by cash. Use the inheritance to model this situation."
      ],
      "metadata": {
        "id": "sEsGEqOHCSWG"
      }
    },
    {
      "cell_type": "code",
      "source": [
        "class payment:\n",
        "\n",
        "  def __init__(self):\n",
        "    pass\n",
        "\n",
        "  def OptionPayment(self):\n",
        "\n",
        "   user = int(input(\"\"\"\n",
        "\n",
        "   select an option which what is mode of payment you want to do.\n",
        "\n",
        "   1) for the cash\n",
        "\n",
        "   2) for the card\n",
        "\n",
        "\n",
        "   \"\"\"))\n",
        "\n",
        "   if user ==1:\n",
        "    print('mode of payment is cash')\n",
        "    return 'cash'\n",
        "   elif user == 2:\n",
        "    print('mode of payment is card')\n",
        "    return 'card'\n",
        "   else:\n",
        "    print('wrong option select again')\n",
        "    return self.OptionPayment()\n",
        "\n",
        "class Bill(payment):\n",
        "\n",
        "  def __init__(self):\n",
        "     super().__init__()\n",
        "\n",
        "  def pay(self,TotalBill):\n",
        "    mode = self.OptionPayment()\n",
        "    print(f'The total bill amount is {TotalBill} and the selected payment mode is {mode}.')\n",
        "\n",
        "\n",
        "\n",
        "bill = Bill()\n",
        "\n",
        "# Assume the total bill is 500 (this could be dynamically calculated in a real application)\n",
        "total_amount = 500\n",
        "\n",
        "# Call the pay method to select payment mode and display the total amount\n",
        "bill.pay(total_amount)\n"
      ],
      "metadata": {
        "id": "l0WFyP2PB3nf",
        "outputId": "0b7cd49a-f603-4294-87f0-4373131dd298",
        "colab": {
          "base_uri": "https://localhost:8080/"
        }
      },
      "execution_count": 52,
      "outputs": [
        {
          "output_type": "stream",
          "name": "stdout",
          "text": [
            "\n",
            "   \n",
            "   select an option which what is mode of payment you want to do.\n",
            "\n",
            "   1) for the cash \n",
            "\n",
            "   2) for the card\n",
            "   \n",
            "   \n",
            "   1\n",
            "mode of payment is cash\n",
            "The total bill amount is 500 and the selected payment mode is cash.\n"
          ]
        }
      ]
    },
    {
      "cell_type": "markdown",
      "source": [
        "###`Q-6:` FlexibleDict\n",
        "As of now we are accessing values from dictionary with exact keys. Now we want to amend accessing values functionality. if a dict have key `1` (int) the even if we try to access values by giving `'1'` (1 as str) as key, we should get the same result and vice versa.\n",
        "\n",
        "Write a class `FlexibleDict` upon builtin `dict` class with above required functionality.\n",
        "\n",
        "Hint- `dict[key] => dict.__getitem__(key)`"
      ],
      "metadata": {
        "id": "v1M5Yh9ZZO0z"
      }
    },
    {
      "cell_type": "markdown",
      "source": [
        "Ex.\n",
        "```\n",
        "fd = FlexibleDict()\n",
        "fd['a'] = 100\n",
        "print(fd['a']) # Like regular dict\n",
        "\n",
        "fd[5] = 500\n",
        "print(fd[5]) # Like regular dict\n",
        "\n",
        "fd[1] = 100\n",
        "print(fd['1']) # actual Key is int but still trying to access through str key.\n",
        "fd['1'] = 100\n",
        "print(fd[1])\n",
        "\n",
        "```\n",
        "`Output:`\n",
        "```\n",
        "100\n",
        "500\n",
        "100\n",
        "100\n",
        "\n",
        "```"
      ],
      "metadata": {
        "id": "uajGeWegbfda"
      }
    },
    {
      "cell_type": "code",
      "source": [
        "class FlexibleDict:\n",
        "    def __init__(self, my_dict):\n",
        "        self.my_dict = my_dict  # Store the dictionary as an instance attribute\n",
        "\n",
        "    # Method to retrieve an item based on the key\n",
        "    def __getitem__(self, key):\n",
        "        if key in self.my_dict:\n",
        "            return self.my_dict[key]\n",
        "        else:\n",
        "            raise KeyError(f\"Key '{key}' not found in the dictionary.\")\n",
        "\n",
        "    # Method to set an item in the dictionary\n",
        "    def __setitem__(self, key, value):\n",
        "        self.my_dict[key] = value  # Add or update the key-value pair\n",
        "\n",
        "# Example dictionary\n",
        "my_dict = {\n",
        "    'a': 30,\n",
        "    'b': 10,\n",
        "    'c': 50,\n",
        "    'd': 75,\n",
        "    'e': 100,\n",
        "    'f': 200\n",
        "}\n",
        "\n",
        "# Create an instance of FlexibleDict\n",
        "fd = FlexibleDict(my_dict)\n",
        "\n",
        "# Get an item using a key\n",
        "print(fd['a'])  # Output: 30\n",
        "\n",
        "# Set an item using a key\n",
        "fd['a'] = 100\n",
        "\n",
        "# Check the updated value\n",
        "print(fd['a'])  # Output: 100\n"
      ],
      "metadata": {
        "id": "OHLbOtCxZ2nw",
        "outputId": "7414665e-afe7-460e-864f-4a60cc8ba469",
        "colab": {
          "base_uri": "https://localhost:8080/"
        }
      },
      "execution_count": 65,
      "outputs": [
        {
          "output_type": "stream",
          "name": "stdout",
          "text": [
            "30\n",
            "100\n"
          ]
        }
      ]
    },
    {
      "cell_type": "code",
      "source": [
        "class FlexibleDict:\n",
        "    def __init__(self, my_dict=None):\n",
        "        # Initialize the dictionary with an empty dict if not provided\n",
        "        self.my_dict = my_dict if my_dict else {}\n",
        "\n",
        "    def __getitem__(self, key):\n",
        "        # Handle key as either string or int\n",
        "        if isinstance(key, str) and key.isdigit():\n",
        "            key = int(key)  # Convert string to integer if possible\n",
        "\n",
        "        if key in self.my_dict:\n",
        "            return self.my_dict[key]\n",
        "        else:\n",
        "            raise KeyError(f\"Key '{key}' not found in the dictionary.\")\n",
        "\n",
        "    def __setitem__(self, key, value):\n",
        "        # Handle key as either string or int\n",
        "        if isinstance(key, str) and key.isdigit():\n",
        "            key = int(key)  # Convert string to integer if possible\n",
        "\n",
        "        self.my_dict[key] = value\n",
        "\n",
        "# Example usage:\n",
        "\n",
        "# Create an instance of FlexibleDict\n",
        "fd = FlexibleDict()\n",
        "\n",
        "# Set and get values using integer keys or string keys\n",
        "fd['a'] = 100  # Adding a key as a string\n",
        "print(fd['a'])  # Output: 100\n",
        "\n",
        "fd[5] = 500  # Adding a key as an integer\n",
        "print(fd[5])  # Output: 500\n",
        "\n",
        "fd[1] = 100  # Adding a key as an integer\n",
        "print(fd[1])  # Output: 100\n",
        "\n",
        "fd['1'] = 200  # Adding a key as a string\n",
        "print(fd[1])  # Output: 200 (since '1' and 1 should be treated the same)\n"
      ],
      "metadata": {
        "id": "7NM8r__dmeMf",
        "outputId": "be1f26d6-852a-4612-bb0b-4b8eb4d74c97",
        "colab": {
          "base_uri": "https://localhost:8080/"
        }
      },
      "execution_count": 66,
      "outputs": [
        {
          "output_type": "stream",
          "name": "stdout",
          "text": [
            "100\n",
            "500\n",
            "100\n",
            "200\n"
          ]
        }
      ]
    }
  ]
}